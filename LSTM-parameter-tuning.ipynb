{
 "cells": [
  {
   "cell_type": "code",
   "execution_count": 1,
   "id": "35c06500",
   "metadata": {},
   "outputs": [],
   "source": [
    "import numpy as np\n",
    "import pandas as pd\n",
    "from keras.models import Sequential\n",
    "from keras.layers import Dense\n",
    "from keras.layers import LSTM"
   ]
  },
  {
   "cell_type": "markdown",
   "id": "a5c73db8",
   "metadata": {},
   "source": [
    "# Electricity Production Data"
   ]
  },
  {
   "cell_type": "markdown",
   "id": "59672033",
   "metadata": {},
   "source": [
    "## Import data"
   ]
  },
  {
   "cell_type": "code",
   "execution_count": 2,
   "id": "1f575138",
   "metadata": {},
   "outputs": [
    {
     "data": {
      "text/plain": [
       "397"
      ]
     },
     "execution_count": 2,
     "metadata": {},
     "output_type": "execute_result"
    }
   ],
   "source": [
    "df = pd.read_csv('data/Electric_Production.csv')\n",
    "data = np.array(df['value'])\n",
    "dataset = np.reshape(data,(-1,1)).astype('float32')\n",
    "len(dataset)"
   ]
  },
  {
   "cell_type": "markdown",
   "id": "74022c78",
   "metadata": {},
   "source": [
    "## Data preprocessing"
   ]
  },
  {
   "cell_type": "code",
   "execution_count": 3,
   "id": "8a34598a",
   "metadata": {},
   "outputs": [],
   "source": [
    "#Create dataset from raw data\n",
    "def create_dataset(dataset, look_back=1):\n",
    "    dataX, dataY = [], []\n",
    "    for i in range(len(dataset)-look_back):\n",
    "\t    a = dataset[i:(i+look_back), 0]\n",
    "\t    dataX.append(a)\n",
    "\t    dataY.append(dataset[i + look_back, 0])\n",
    "    return np.array(dataX), np.array(dataY)\n",
    "\n",
    "def create_model(n_units = 100, window_size = 10, af = \"relu\"):\n",
    "    model = Sequential()\n",
    "    model.add(LSTM(n_units, input_dim=window_size, activation=af))\n",
    "    model.add(Dense(1))\n",
    "    model.compile(loss='mean_absolute_error', optimizer='adam')\n",
    "    return model"
   ]
  },
  {
   "cell_type": "code",
   "execution_count": 4,
   "id": "403ba369",
   "metadata": {},
   "outputs": [],
   "source": [
    "#Data point from test_index_from is the starting index of the testing set\n",
    "test_index_from = int(len(dataset) * 0.75)\n",
    "train = dataset[0:test_index_from,:]"
   ]
  },
  {
   "cell_type": "code",
   "execution_count": 5,
   "id": "c145a43e",
   "metadata": {},
   "outputs": [],
   "source": [
    "#Parameter tuning function\n",
    "def parameter_tuning(trainset, window_sizes = [], list_n_units = [], activation_funcs = []):\n",
    "    best_val_loss = 1e1000000000\n",
    "    best_window_size = 0\n",
    "    best_n_units = 0\n",
    "    best_af = \" \"\n",
    "    for window_size in window_sizes:\n",
    "        trainX, trainY = create_dataset(trainset, window_size)\n",
    "        trainX = np.reshape(trainX, (trainX.shape[0], 1, trainX.shape[1]))\n",
    "        for n_units in list_n_units:\n",
    "            for af in activation_funcs:\n",
    "                lstm = create_model(n_units = n_units, window_size = window_size, af = af)\n",
    "                history = lstm.fit(trainX, trainY, epochs=120, batch_size=32, verbose=0,validation_split=0.3)\n",
    "                val_loss = history.history['val_loss']\n",
    "                if val_loss[-1] < best_val_loss:\n",
    "                    best_val_loss = val_loss[-1]\n",
    "                    best_window_size = window_size\n",
    "                    best_n_units = n_units\n",
    "                    best_af = af\n",
    "    print(\"Best parameter set: window_size: \" + str(best_window_size) + \" n_units: \" + str(best_n_units) + \" activation function: \" + best_af)\n",
    "            "
   ]
  },
  {
   "cell_type": "code",
   "execution_count": 6,
   "id": "d240a99d",
   "metadata": {},
   "outputs": [
    {
     "name": "stdout",
     "output_type": "stream",
     "text": [
      "Best parameter set: window_size: 15 n_units: 60 activation function: relu\n"
     ]
    }
   ],
   "source": [
    "window_sizes = [10, 15, 20, 25]\n",
    "list_n_units = [20, 40, 60, 80, 100]\n",
    "activation_funcs = [\"relu\"]\n",
    "\n",
    "parameter_tuning(dataset, window_sizes=window_sizes, list_n_units=list_n_units, activation_funcs = activation_funcs)"
   ]
  },
  {
   "cell_type": "markdown",
   "id": "79556b41",
   "metadata": {},
   "source": [
    "# Microsoft Stock Data Price"
   ]
  },
  {
   "cell_type": "markdown",
   "id": "20e6b8e2",
   "metadata": {},
   "source": [
    "## Import data"
   ]
  },
  {
   "cell_type": "code",
   "execution_count": 8,
   "id": "e2fc454b",
   "metadata": {},
   "outputs": [
    {
     "data": {
      "text/plain": [
       "1511"
      ]
     },
     "execution_count": 8,
     "metadata": {},
     "output_type": "execute_result"
    }
   ],
   "source": [
    "df = pd.read_csv('data/Microsoft_Stock.csv')\n",
    "data = np.array(df['Close'])\n",
    "dataset = np.reshape(data,(-1,1)).astype('float32')\n",
    "len(dataset)"
   ]
  },
  {
   "cell_type": "code",
   "execution_count": 9,
   "id": "a11b95c8",
   "metadata": {},
   "outputs": [],
   "source": [
    "test_index_from = int(len(dataset) * 0.75)\n",
    "train = dataset[0:test_index_from,:]"
   ]
  },
  {
   "cell_type": "code",
   "execution_count": 10,
   "id": "6e6942d4",
   "metadata": {},
   "outputs": [
    {
     "name": "stdout",
     "output_type": "stream",
     "text": [
      "Best parameter set: window_size: 40 n_units: 100 activation function: relu\n"
     ]
    }
   ],
   "source": [
    "window_sizes = [40, 60, 80, 100]\n",
    "list_n_units = [40, 60, 80, 100]\n",
    "activation_funcs = [\"relu\"]\n",
    "\n",
    "parameter_tuning(dataset, window_sizes=window_sizes, list_n_units=list_n_units, activation_funcs = activation_funcs)"
   ]
  },
  {
   "cell_type": "code",
   "execution_count": null,
   "id": "a37b0f52",
   "metadata": {},
   "outputs": [],
   "source": []
  },
  {
   "cell_type": "markdown",
   "id": "59bd62ae",
   "metadata": {},
   "source": [
    "# Microsoft Stock Data Volume"
   ]
  },
  {
   "cell_type": "code",
   "execution_count": 11,
   "id": "5e968f1f",
   "metadata": {},
   "outputs": [
    {
     "data": {
      "text/plain": [
       "1511"
      ]
     },
     "execution_count": 11,
     "metadata": {},
     "output_type": "execute_result"
    }
   ],
   "source": [
    "data = np.array(df['Volume'])\n",
    "dataset = np.reshape(data,(-1,1)).astype('float32')\n",
    "len(dataset)"
   ]
  },
  {
   "cell_type": "code",
   "execution_count": 12,
   "id": "f8ebbb19",
   "metadata": {},
   "outputs": [],
   "source": [
    "test_index_from = int(len(dataset) * 0.75)\n",
    "train = dataset[0:test_index_from,:]"
   ]
  },
  {
   "cell_type": "code",
   "execution_count": 13,
   "id": "a67b26be",
   "metadata": {},
   "outputs": [
    {
     "name": "stdout",
     "output_type": "stream",
     "text": [
      "Best parameter set: window_size: 40 n_units: 80 activation function: relu\n"
     ]
    }
   ],
   "source": [
    "window_sizes = [40, 60, 80, 100]\n",
    "list_n_units = [40, 60, 80, 100]\n",
    "activation_funcs = [\"relu\"]\n",
    "\n",
    "parameter_tuning(dataset, window_sizes=window_sizes, list_n_units=list_n_units, activation_funcs = activation_funcs)"
   ]
  },
  {
   "cell_type": "code",
   "execution_count": null,
   "id": "812672f6",
   "metadata": {},
   "outputs": [],
   "source": []
  }
 ],
 "metadata": {
  "kernelspec": {
   "display_name": "Python 3 (ipykernel)",
   "language": "python",
   "name": "python3"
  },
  "language_info": {
   "codemirror_mode": {
    "name": "ipython",
    "version": 3
   },
   "file_extension": ".py",
   "mimetype": "text/x-python",
   "name": "python",
   "nbconvert_exporter": "python",
   "pygments_lexer": "ipython3",
   "version": "3.10.6"
  }
 },
 "nbformat": 4,
 "nbformat_minor": 5
}
