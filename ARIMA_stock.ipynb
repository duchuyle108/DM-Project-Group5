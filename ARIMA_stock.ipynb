{
 "cells": [
  {
   "cell_type": "code",
   "execution_count": 1,
   "id": "891045ae-0453-47e9-878f-e828c3dadbf3",
   "metadata": {},
   "outputs": [],
   "source": [
    "import matplotlib.pyplot as plt\n",
    "import pandas as pd\n",
    "import statsmodels.api as sm\n",
    "from statsmodels.tsa.seasonal import seasonal_decompose \n",
    "from statsmodels.tsa.stattools import adfuller as ADF\n",
    "from statsmodels.tsa.arima_model import ARIMA\n",
    "\n",
    "import warnings\n",
    "warnings.filterwarnings(\"ignore\")"
   ]
  },
  {
   "cell_type": "code",
   "execution_count": 90,
   "id": "86a73dca-8913-48a8-a011-ee30c149c5c6",
   "metadata": {},
   "outputs": [],
   "source": [
    "dateparse = lambda dates: pd.datetime.strptime(dates, '%m/%d/%Y %H:%M:%S')\n",
    "# df = pd.read_csv(\"Microsoft_Stock.csv\", parse_dates=['Date'], index_col='Date', date_parser=dateparse)\n",
    "df = pd.read_csv(\"Microsoft_Stock.csv\")"
   ]
  },
  {
   "cell_type": "code",
   "execution_count": 82,
   "id": "fd2e62b2-f96f-4302-9d99-6d09f8d6e30c",
   "metadata": {},
   "outputs": [
    {
     "data": {
      "text/html": [
       "<div>\n",
       "<style scoped>\n",
       "    .dataframe tbody tr th:only-of-type {\n",
       "        vertical-align: middle;\n",
       "    }\n",
       "\n",
       "    .dataframe tbody tr th {\n",
       "        vertical-align: top;\n",
       "    }\n",
       "\n",
       "    .dataframe thead th {\n",
       "        text-align: right;\n",
       "    }\n",
       "</style>\n",
       "<table border=\"1\" class=\"dataframe\">\n",
       "  <thead>\n",
       "    <tr style=\"text-align: right;\">\n",
       "      <th></th>\n",
       "      <th>Date</th>\n",
       "      <th>Open</th>\n",
       "      <th>High</th>\n",
       "      <th>Low</th>\n",
       "      <th>Close</th>\n",
       "      <th>Volume</th>\n",
       "    </tr>\n",
       "  </thead>\n",
       "  <tbody>\n",
       "    <tr>\n",
       "      <th>0</th>\n",
       "      <td>4/1/2015 16:00:00</td>\n",
       "      <td>40.60</td>\n",
       "      <td>40.76</td>\n",
       "      <td>40.31</td>\n",
       "      <td>40.72</td>\n",
       "      <td>36865322</td>\n",
       "    </tr>\n",
       "    <tr>\n",
       "      <th>1</th>\n",
       "      <td>4/2/2015 16:00:00</td>\n",
       "      <td>40.66</td>\n",
       "      <td>40.74</td>\n",
       "      <td>40.12</td>\n",
       "      <td>40.29</td>\n",
       "      <td>37487476</td>\n",
       "    </tr>\n",
       "    <tr>\n",
       "      <th>2</th>\n",
       "      <td>4/6/2015 16:00:00</td>\n",
       "      <td>40.34</td>\n",
       "      <td>41.78</td>\n",
       "      <td>40.18</td>\n",
       "      <td>41.55</td>\n",
       "      <td>39223692</td>\n",
       "    </tr>\n",
       "    <tr>\n",
       "      <th>3</th>\n",
       "      <td>4/7/2015 16:00:00</td>\n",
       "      <td>41.61</td>\n",
       "      <td>41.91</td>\n",
       "      <td>41.31</td>\n",
       "      <td>41.53</td>\n",
       "      <td>28809375</td>\n",
       "    </tr>\n",
       "    <tr>\n",
       "      <th>4</th>\n",
       "      <td>4/8/2015 16:00:00</td>\n",
       "      <td>41.48</td>\n",
       "      <td>41.69</td>\n",
       "      <td>41.04</td>\n",
       "      <td>41.42</td>\n",
       "      <td>24753438</td>\n",
       "    </tr>\n",
       "  </tbody>\n",
       "</table>\n",
       "</div>"
      ],
      "text/plain": [
       "                Date   Open   High    Low  Close    Volume\n",
       "0  4/1/2015 16:00:00  40.60  40.76  40.31  40.72  36865322\n",
       "1  4/2/2015 16:00:00  40.66  40.74  40.12  40.29  37487476\n",
       "2  4/6/2015 16:00:00  40.34  41.78  40.18  41.55  39223692\n",
       "3  4/7/2015 16:00:00  41.61  41.91  41.31  41.53  28809375\n",
       "4  4/8/2015 16:00:00  41.48  41.69  41.04  41.42  24753438"
      ]
     },
     "execution_count": 82,
     "metadata": {},
     "output_type": "execute_result"
    }
   ],
   "source": [
    "df.head()"
   ]
  },
  {
   "cell_type": "code",
   "execution_count": 6,
   "id": "9d87dd31-1674-4a95-9ea8-83ead43c3f47",
   "metadata": {},
   "outputs": [
    {
     "name": "stdout",
     "output_type": "stream",
     "text": [
      "The number of NaA in Open is 0\n",
      "The number of NaA in High is 0\n",
      "The number of NaA in Low is 0\n",
      "The number of NaA in Close is 0\n",
      "The number of NaA in Volume is 0\n"
     ]
    }
   ],
   "source": [
    "for i in df.columns:\n",
    "    print(\"The number of NaA in {} is {}\".format(i, df[i].isnull().sum()))"
   ]
  },
  {
   "cell_type": "code",
   "execution_count": 84,
   "id": "9a7d1001-9959-4029-978a-727ce4d1ef43",
   "metadata": {},
   "outputs": [],
   "source": [
    "df.Date = pd.to_datetime(df.Date, format='%m/%d/%Y %H:%M:%S')"
   ]
  },
  {
   "cell_type": "code",
   "execution_count": 93,
   "id": "a72f2492-e1d1-4366-a3bd-77ed9550121b",
   "metadata": {},
   "outputs": [],
   "source": [
    "df.Date = pd.to_datetime(df.Date, format='%m/%d/%Y %H:%M:%S').dt.normalize()"
   ]
  },
  {
   "cell_type": "code",
   "execution_count": 95,
   "id": "8cd61f9d-e273-440c-a8b1-3a1bd4d33d69",
   "metadata": {},
   "outputs": [],
   "source": [
    "df.index = df.Date"
   ]
  },
  {
   "cell_type": "code",
   "execution_count": 96,
   "id": "9b86c765-fa33-4873-8a7f-0203ec14399e",
   "metadata": {},
   "outputs": [
    {
     "name": "stdout",
     "output_type": "stream",
     "text": [
      "<class 'pandas.core.frame.DataFrame'>\n",
      "DatetimeIndex: 1511 entries, 2015-04-01 to 2021-03-31\n",
      "Data columns (total 6 columns):\n",
      " #   Column  Non-Null Count  Dtype         \n",
      "---  ------  --------------  -----         \n",
      " 0   Date    1511 non-null   datetime64[ns]\n",
      " 1   Open    1511 non-null   float64       \n",
      " 2   High    1511 non-null   float64       \n",
      " 3   Low     1511 non-null   float64       \n",
      " 4   Close   1511 non-null   float64       \n",
      " 5   Volume  1511 non-null   int64         \n",
      "dtypes: datetime64[ns](1), float64(4), int64(1)\n",
      "memory usage: 82.6 KB\n"
     ]
    }
   ],
   "source": [
    "df.info()"
   ]
  },
  {
   "cell_type": "code",
   "execution_count": 25,
   "id": "3764a665-1f1b-468e-a726-925fa76d949f",
   "metadata": {},
   "outputs": [
    {
     "data": {
      "text/plain": [
       "(1511, 6)"
      ]
     },
     "execution_count": 25,
     "metadata": {},
     "output_type": "execute_result"
    }
   ],
   "source": [
    "df.shape"
   ]
  },
  {
   "cell_type": "code",
   "execution_count": 97,
   "id": "8f52e7a8-cfab-4c21-96e9-48cc0c55326c",
   "metadata": {},
   "outputs": [
    {
     "data": {
      "text/html": [
       "<div>\n",
       "<style scoped>\n",
       "    .dataframe tbody tr th:only-of-type {\n",
       "        vertical-align: middle;\n",
       "    }\n",
       "\n",
       "    .dataframe tbody tr th {\n",
       "        vertical-align: top;\n",
       "    }\n",
       "\n",
       "    .dataframe thead th {\n",
       "        text-align: right;\n",
       "    }\n",
       "</style>\n",
       "<table border=\"1\" class=\"dataframe\">\n",
       "  <thead>\n",
       "    <tr style=\"text-align: right;\">\n",
       "      <th></th>\n",
       "      <th>Date</th>\n",
       "      <th>Open</th>\n",
       "      <th>High</th>\n",
       "      <th>Low</th>\n",
       "      <th>Close</th>\n",
       "      <th>Volume</th>\n",
       "    </tr>\n",
       "    <tr>\n",
       "      <th>Date</th>\n",
       "      <th></th>\n",
       "      <th></th>\n",
       "      <th></th>\n",
       "      <th></th>\n",
       "      <th></th>\n",
       "      <th></th>\n",
       "    </tr>\n",
       "  </thead>\n",
       "  <tbody>\n",
       "    <tr>\n",
       "      <th>2015-04-01</th>\n",
       "      <td>2015-04-01</td>\n",
       "      <td>40.60</td>\n",
       "      <td>40.76</td>\n",
       "      <td>40.31</td>\n",
       "      <td>40.72</td>\n",
       "      <td>36865322</td>\n",
       "    </tr>\n",
       "    <tr>\n",
       "      <th>2015-04-02</th>\n",
       "      <td>2015-04-02</td>\n",
       "      <td>40.66</td>\n",
       "      <td>40.74</td>\n",
       "      <td>40.12</td>\n",
       "      <td>40.29</td>\n",
       "      <td>37487476</td>\n",
       "    </tr>\n",
       "    <tr>\n",
       "      <th>2015-04-06</th>\n",
       "      <td>2015-04-06</td>\n",
       "      <td>40.34</td>\n",
       "      <td>41.78</td>\n",
       "      <td>40.18</td>\n",
       "      <td>41.55</td>\n",
       "      <td>39223692</td>\n",
       "    </tr>\n",
       "    <tr>\n",
       "      <th>2015-04-07</th>\n",
       "      <td>2015-04-07</td>\n",
       "      <td>41.61</td>\n",
       "      <td>41.91</td>\n",
       "      <td>41.31</td>\n",
       "      <td>41.53</td>\n",
       "      <td>28809375</td>\n",
       "    </tr>\n",
       "    <tr>\n",
       "      <th>2015-04-08</th>\n",
       "      <td>2015-04-08</td>\n",
       "      <td>41.48</td>\n",
       "      <td>41.69</td>\n",
       "      <td>41.04</td>\n",
       "      <td>41.42</td>\n",
       "      <td>24753438</td>\n",
       "    </tr>\n",
       "  </tbody>\n",
       "</table>\n",
       "</div>"
      ],
      "text/plain": [
       "                 Date   Open   High    Low  Close    Volume\n",
       "Date                                                       \n",
       "2015-04-01 2015-04-01  40.60  40.76  40.31  40.72  36865322\n",
       "2015-04-02 2015-04-02  40.66  40.74  40.12  40.29  37487476\n",
       "2015-04-06 2015-04-06  40.34  41.78  40.18  41.55  39223692\n",
       "2015-04-07 2015-04-07  41.61  41.91  41.31  41.53  28809375\n",
       "2015-04-08 2015-04-08  41.48  41.69  41.04  41.42  24753438"
      ]
     },
     "execution_count": 97,
     "metadata": {},
     "output_type": "execute_result"
    }
   ],
   "source": [
    "df.head()"
   ]
  },
  {
   "cell_type": "code",
   "execution_count": 98,
   "id": "c6d781cb-bca6-418d-be20-5ef138a1c461",
   "metadata": {},
   "outputs": [],
   "source": [
    "train = df.iloc[:1000]\n",
    "test = df.iloc[1000:]"
   ]
  },
  {
   "cell_type": "code",
   "execution_count": 25,
   "id": "a63597bc-7251-42bb-be9d-a64847d27411",
   "metadata": {},
   "outputs": [
    {
     "data": {
      "text/plain": [
       "Open           119.50\n",
       "High           119.59\n",
       "Low            117.04\n",
       "Close          117.05\n",
       "Volume    33624528.00\n",
       "Name: 2019-03-22 16:00:00, dtype: float64"
      ]
     },
     "execution_count": 25,
     "metadata": {},
     "output_type": "execute_result"
    }
   ],
   "source": [
    "test.iloc[0]"
   ]
  },
  {
   "cell_type": "code",
   "execution_count": 106,
   "id": "20e8d624-eedd-46a0-92e8-aa8acc7da69d",
   "metadata": {},
   "outputs": [
    {
     "data": {
      "text/html": [
       "<div>\n",
       "<style scoped>\n",
       "    .dataframe tbody tr th:only-of-type {\n",
       "        vertical-align: middle;\n",
       "    }\n",
       "\n",
       "    .dataframe tbody tr th {\n",
       "        vertical-align: top;\n",
       "    }\n",
       "\n",
       "    .dataframe thead th {\n",
       "        text-align: right;\n",
       "    }\n",
       "</style>\n",
       "<table border=\"1\" class=\"dataframe\">\n",
       "  <thead>\n",
       "    <tr style=\"text-align: right;\">\n",
       "      <th></th>\n",
       "      <th>Date</th>\n",
       "      <th>Open</th>\n",
       "      <th>High</th>\n",
       "      <th>Low</th>\n",
       "      <th>Close</th>\n",
       "      <th>Volume</th>\n",
       "    </tr>\n",
       "    <tr>\n",
       "      <th>Date</th>\n",
       "      <th></th>\n",
       "      <th></th>\n",
       "      <th></th>\n",
       "      <th></th>\n",
       "      <th></th>\n",
       "      <th></th>\n",
       "    </tr>\n",
       "  </thead>\n",
       "  <tbody>\n",
       "    <tr>\n",
       "      <th>2019-03-22</th>\n",
       "      <td>2019-03-22</td>\n",
       "      <td>119.50</td>\n",
       "      <td>119.59</td>\n",
       "      <td>117.04</td>\n",
       "      <td>117.05</td>\n",
       "      <td>33624528</td>\n",
       "    </tr>\n",
       "    <tr>\n",
       "      <th>2019-03-25</th>\n",
       "      <td>2019-03-25</td>\n",
       "      <td>116.56</td>\n",
       "      <td>118.01</td>\n",
       "      <td>116.32</td>\n",
       "      <td>117.66</td>\n",
       "      <td>27067117</td>\n",
       "    </tr>\n",
       "    <tr>\n",
       "      <th>2019-03-26</th>\n",
       "      <td>2019-03-26</td>\n",
       "      <td>118.62</td>\n",
       "      <td>118.71</td>\n",
       "      <td>116.85</td>\n",
       "      <td>117.91</td>\n",
       "      <td>26097665</td>\n",
       "    </tr>\n",
       "    <tr>\n",
       "      <th>2019-03-27</th>\n",
       "      <td>2019-03-27</td>\n",
       "      <td>117.88</td>\n",
       "      <td>118.21</td>\n",
       "      <td>115.52</td>\n",
       "      <td>116.77</td>\n",
       "      <td>22733427</td>\n",
       "    </tr>\n",
       "    <tr>\n",
       "      <th>2019-03-28</th>\n",
       "      <td>2019-03-28</td>\n",
       "      <td>117.44</td>\n",
       "      <td>117.58</td>\n",
       "      <td>116.13</td>\n",
       "      <td>116.93</td>\n",
       "      <td>18334755</td>\n",
       "    </tr>\n",
       "    <tr>\n",
       "      <th>...</th>\n",
       "      <td>...</td>\n",
       "      <td>...</td>\n",
       "      <td>...</td>\n",
       "      <td>...</td>\n",
       "      <td>...</td>\n",
       "      <td>...</td>\n",
       "    </tr>\n",
       "    <tr>\n",
       "      <th>2021-03-25</th>\n",
       "      <td>2021-03-25</td>\n",
       "      <td>235.30</td>\n",
       "      <td>236.94</td>\n",
       "      <td>231.57</td>\n",
       "      <td>232.34</td>\n",
       "      <td>34061853</td>\n",
       "    </tr>\n",
       "    <tr>\n",
       "      <th>2021-03-26</th>\n",
       "      <td>2021-03-26</td>\n",
       "      <td>231.55</td>\n",
       "      <td>236.71</td>\n",
       "      <td>231.55</td>\n",
       "      <td>236.48</td>\n",
       "      <td>25479853</td>\n",
       "    </tr>\n",
       "    <tr>\n",
       "      <th>2021-03-29</th>\n",
       "      <td>2021-03-29</td>\n",
       "      <td>236.59</td>\n",
       "      <td>236.80</td>\n",
       "      <td>231.88</td>\n",
       "      <td>235.24</td>\n",
       "      <td>25227455</td>\n",
       "    </tr>\n",
       "    <tr>\n",
       "      <th>2021-03-30</th>\n",
       "      <td>2021-03-30</td>\n",
       "      <td>233.53</td>\n",
       "      <td>233.85</td>\n",
       "      <td>231.10</td>\n",
       "      <td>231.85</td>\n",
       "      <td>24792012</td>\n",
       "    </tr>\n",
       "    <tr>\n",
       "      <th>2021-03-31</th>\n",
       "      <td>2021-03-31</td>\n",
       "      <td>232.91</td>\n",
       "      <td>239.10</td>\n",
       "      <td>232.39</td>\n",
       "      <td>235.77</td>\n",
       "      <td>43623471</td>\n",
       "    </tr>\n",
       "  </tbody>\n",
       "</table>\n",
       "<p>511 rows × 6 columns</p>\n",
       "</div>"
      ],
      "text/plain": [
       "                 Date    Open    High     Low   Close    Volume\n",
       "Date                                                           \n",
       "2019-03-22 2019-03-22  119.50  119.59  117.04  117.05  33624528\n",
       "2019-03-25 2019-03-25  116.56  118.01  116.32  117.66  27067117\n",
       "2019-03-26 2019-03-26  118.62  118.71  116.85  117.91  26097665\n",
       "2019-03-27 2019-03-27  117.88  118.21  115.52  116.77  22733427\n",
       "2019-03-28 2019-03-28  117.44  117.58  116.13  116.93  18334755\n",
       "...               ...     ...     ...     ...     ...       ...\n",
       "2021-03-25 2021-03-25  235.30  236.94  231.57  232.34  34061853\n",
       "2021-03-26 2021-03-26  231.55  236.71  231.55  236.48  25479853\n",
       "2021-03-29 2021-03-29  236.59  236.80  231.88  235.24  25227455\n",
       "2021-03-30 2021-03-30  233.53  233.85  231.10  231.85  24792012\n",
       "2021-03-31 2021-03-31  232.91  239.10  232.39  235.77  43623471\n",
       "\n",
       "[511 rows x 6 columns]"
      ]
     },
     "execution_count": 106,
     "metadata": {},
     "output_type": "execute_result"
    }
   ],
   "source": [
    "test"
   ]
  },
  {
   "cell_type": "markdown",
   "id": "34fe87a1-1681-42bb-9f2a-81ffc8d49127",
   "metadata": {},
   "source": [
    "## Predict \"Close\""
   ]
  },
  {
   "cell_type": "code",
   "execution_count": 129,
   "id": "c01d857a-df31-4625-9642-eee5b5047a66",
   "metadata": {},
   "outputs": [],
   "source": [
    "ts_close = train.Close\n",
    "ts_close_test = test.Close"
   ]
  },
  {
   "cell_type": "code",
   "execution_count": 100,
   "id": "bba6ac09-c8b3-42cc-a7c9-ccce5515b214",
   "metadata": {},
   "outputs": [
    {
     "data": {
      "text/plain": [
       "(0.5288526561196594,\n",
       " 0.9857241627059556,\n",
       " 8,\n",
       " 991,\n",
       " {'1%': -3.4369658620871286,\n",
       "  '5%': -2.8644609013346485,\n",
       "  '10%': -2.56832523159495},\n",
       " 3011.1566535806032)"
      ]
     },
     "execution_count": 100,
     "metadata": {},
     "output_type": "execute_result"
    }
   ],
   "source": [
    "# check the stationary of data\n",
    "ts_adf = ADF(ts_close.tolist())\n",
    "ts_adf"
   ]
  },
  {
   "cell_type": "code",
   "execution_count": 101,
   "id": "6cb7f1af-0e25-438e-a9c6-5969a925b0fe",
   "metadata": {},
   "outputs": [
    {
     "data": {
      "text/plain": [
       "(-13.011964942687296,\n",
       " 2.5567830115531918e-24,\n",
       " 7,\n",
       " 992,\n",
       " {'1%': -3.436959175494265,\n",
       "  '5%': -2.8644579524531975,\n",
       "  '10%': -2.568323660940752},\n",
       " 3009.881198899161)"
      ]
     },
     "execution_count": 101,
     "metadata": {},
     "output_type": "execute_result"
    }
   ],
   "source": [
    "ts_close_diff1 = ts_close.diff(1)\n",
    "ts_close_diff1 = ts_close_diff1.fillna(0)\n",
    "ts_adf_diff1 = ADF(ts_close_diff1.tolist())\n",
    "ts_adf_diff1"
   ]
  },
  {
   "cell_type": "code",
   "execution_count": 102,
   "id": "636c0ef2-8b0d-4404-a4e8-a4ca9f19afe9",
   "metadata": {},
   "outputs": [
    {
     "data": {
      "image/png": "[encoded data removed]",
      "text/plain": [
       "<Figure size 864x576 with 2 Axes>"
      ]
     },
     "metadata": {
      "needs_background": "light"
     },
     "output_type": "display_data"
    }
   ],
   "source": [
    "fig = plt.figure(figsize=(12, 8))\n",
    "ax1 = fig.add_subplot(211) \n",
    "sm.graphics.tsa.plot_acf(ts_close_diff1, lags=20, ax=ax1) \n",
    "ax2 = fig.add_subplot(212) \n",
    "sm.graphics.tsa.plot_pacf(ts_close_diff1, lags=20, ax=ax2) \n",
    "plt.show()"
   ]
  },
  {
   "cell_type": "code",
   "execution_count": 32,
   "id": "0ebd8cd7-0de9-44af-80f1-75cede9db9d1",
   "metadata": {},
   "outputs": [
    {
     "name": "stdout",
     "output_type": "stream",
     "text": [
      "AIC (4, 2)\n",
      "BIC (1, 1)\n"
     ]
    }
   ],
   "source": [
    "train_results = sm.tsa.arma_order_select_ic(ts_close, ic=['aic', 'bic'], trend='nc', max_ar=4, max_ma=4)\n",
    "\n",
    "print('AIC', train_results.aic_min_order)\n",
    "print('BIC', train_results.bic_min_order)"
   ]
  },
  {
   "cell_type": "code",
   "execution_count": 166,
   "id": "b11dbf2e-d36a-4a5a-8869-9ea7363df5f2",
   "metadata": {},
   "outputs": [
    {
     "name": "stdout",
     "output_type": "stream",
     "text": [
      "RUNNING THE L-BFGS-B CODE\n",
      "\n",
      "           * * *\n",
      "\n",
      "Machine precision = 2.220D-16\n",
      " N =            3     M =           12\n",
      "\n",
      "At X0         0 variables are exactly at the bounds\n",
      "\n",
      "At iterate    0    f=  1.54559D+00    |proj g|=  3.97260D-04\n",
      "\n",
      "At iterate    5    f=  1.54558D+00    |proj g|=  1.11235D-03\n",
      "\n",
      "At iterate   10    f=  1.54557D+00    |proj g|=  9.13936D-04\n",
      "\n",
      "At iterate   15    f=  1.54557D+00    |proj g|=  2.22045D-08\n",
      "\n",
      "           * * *\n",
      "\n",
      "Tit   = total number of iterations\n",
      "Tnf   = total number of function evaluations\n",
      "Tnint = total number of segments explored during Cauchy searches\n",
      "Skip  = number of BFGS updates skipped\n",
      "Nact  = number of active bounds at final generalized Cauchy point\n",
      "Projg = norm of the final projected gradient\n",
      "F     = final function value\n",
      "\n",
      "           * * *\n",
      "\n",
      "   N    Tit     Tnf  Tnint  Skip  Nact     Projg        F\n",
      "    3     17     26      1     0     0   4.441D-08   1.546D+00\n",
      "  F =   1.5455654237685270     \n",
      "\n",
      "CONVERGENCE: REL_REDUCTION_OF_F_<=_FACTR*EPSMCH             \n"
     ]
    },
    {
     "name": "stderr",
     "output_type": "stream",
     "text": [
      " This problem is unconstrained.\n"
     ]
    }
   ],
   "source": [
    "## AR(p=2)\n",
    "model = sm.tsa.ARIMA(ts_close, order=(1, 1, 1))\n",
    "model_fit = model.fit()"
   ]
  },
  {
   "cell_type": "code",
   "execution_count": 167,
   "id": "2fccc720-9a9d-45dc-bd67-3b5befaefa60",
   "metadata": {},
   "outputs": [
    {
     "data": {
      "image/png": "[encoded data removed]",
      "text/plain": [
       "<Figure size 576x432 with 1 Axes>"
      ]
     },
     "metadata": {
      "needs_background": "light"
     },
     "output_type": "display_data"
    },
    {
     "data": {
      "image/png": "[encoded data removed]",
      "text/plain": [
       "<Figure size 576x432 with 1 Axes>"
      ]
     },
     "metadata": {
      "needs_background": "light"
     },
     "output_type": "display_data"
    }
   ],
   "source": [
    "# Plot residual errors\n",
    "residuals = pd.DataFrame(model_fit.resid)\n",
    "# fig, ax = plt.subplots(1,2)\n",
    "fig1, ax1 = plt.subplots(figsize=(8,6))\n",
    "residuals.plot(title=\"Residuals\", ax=ax1)\n",
    "fig2, ax2 = plt.subplots(figsize=(8,6))\n",
    "residuals.plot(kind='kde', title='Density', ax=ax2)\n",
    "plt.show()"
   ]
  },
  {
   "cell_type": "code",
   "execution_count": 168,
   "id": "d6b8aa3e-ddf5-4245-8465-b8c5aabaa751",
   "metadata": {},
   "outputs": [
    {
     "data": {
      "image/png": "[encoded data removed]",
      "text/plain": [
       "<Figure size 864x432 with 1 Axes>"
      ]
     },
     "metadata": {
      "needs_background": "light"
     },
     "output_type": "display_data"
    }
   ],
   "source": [
    "fig3, ax3 = plt.subplots(figsize=(12,6))\n",
    "model_fit.plot_predict(dynamic=False, ax=ax3)\n",
    "plt.ylabel(\"Stock Price\")\n",
    "plt.show()"
   ]
  },
  {
   "cell_type": "code",
   "execution_count": 115,
   "id": "f393aa33-7565-43b4-95af-c9d4bf7f2625",
   "metadata": {},
   "outputs": [
    {
     "data": {
      "text/plain": [
       "DatetimeIndex(['2019-03-22', '2019-03-25', '2019-03-26', '2019-03-27',\n",
       "               '2019-03-28', '2019-03-29', '2019-04-01', '2019-04-02',\n",
       "               '2019-04-03', '2019-04-04',\n",
       "               ...\n",
       "               '2021-03-18', '2021-03-19', '2021-03-22', '2021-03-23',\n",
       "               '2021-03-24', '2021-03-25', '2021-03-26', '2021-03-29',\n",
       "               '2021-03-30', '2021-03-31'],\n",
       "              dtype='datetime64[ns]', name='Date', length=511, freq=None)"
      ]
     },
     "execution_count": 115,
     "metadata": {},
     "output_type": "execute_result"
    }
   ],
   "source": [
    "ts_close_test.index"
   ]
  },
  {
   "cell_type": "code",
   "execution_count": 110,
   "id": "069e3acf-93d4-4ab5-b7cd-a49107f3207d",
   "metadata": {},
   "outputs": [
    {
     "data": {
      "text/plain": [
       "Timestamp('2021-03-31 00:00:00')"
      ]
     },
     "execution_count": 110,
     "metadata": {},
     "output_type": "execute_result"
    }
   ],
   "source": [
    "ts_close_test.index[-1]"
   ]
  },
  {
   "cell_type": "code",
   "execution_count": 121,
   "id": "5ff46ecb-4650-4102-b730-81bcdcc3f0f6",
   "metadata": {},
   "outputs": [],
   "source": [
    "start_idx = pd.datetime(2019, 3, 22)\n",
    "end_idx = pd.datetime(2021, 3, 31)"
   ]
  },
  {
   "cell_type": "code",
   "execution_count": 144,
   "id": "678652cd-3b93-4e9a-add3-a930109f1696",
   "metadata": {
    "collapsed": true,
    "jupyter": {
     "outputs_hidden": true
    },
    "tags": []
   },
   "outputs": [
    {
     "data": {
      "text/plain": [
       "array([117.05, 117.66, 117.91, 116.77, 116.93, 117.94, 119.02, 119.19,\n",
       "       119.97, 119.36, 119.89, 119.93, 119.28, 120.19, 120.33, 120.95,\n",
       "       121.05, 120.77, 121.77, 123.37, 123.76, 125.44, 125.01, 129.15,\n",
       "       129.89, 129.77, 130.6 , 127.88, 126.21, 128.9 , 128.15, 125.52,\n",
       "       125.51, 125.5 , 127.13, 123.35, 124.73, 126.02, 128.93, 128.07,\n",
       "       126.22, 126.9 , 127.67, 126.18, 126.24, 126.16, 124.94, 125.73,\n",
       "       123.68, 119.84, 123.16, 125.83, 127.82, 131.4 , 132.6 , 132.1 ,\n",
       "       131.49, 132.32, 132.45, 132.85, 135.16, 135.69, 136.95, 136.97,\n",
       "       137.78, 133.43, 133.93, 134.15, 133.96, 135.68, 136.58, 137.46,\n",
       "       137.06, 136.96, 136.46, 137.85, 138.4 , 138.9 , 138.9 , 137.08,\n",
       "       136.27, 136.42, 136.62, 138.43, 139.29, 140.72, 140.19, 141.34,\n",
       "       141.03, 140.35, 136.27, 138.06, 136.9 , 132.21, 134.69, 135.28,\n",
       "       138.89, 137.71, 135.79, 138.6 , 133.98, 133.68, 136.13, 138.41,\n",
       "       137.26, 138.79, 137.78, 133.39, 135.45, 135.74, 135.56, 138.12,\n",
       "       137.86, 136.04, 137.63, 140.05, 139.1 , 137.52, 136.08, 136.12,\n",
       "       137.52, 137.32, 136.33, 137.39, 138.52, 141.07, 139.44, 139.14,\n",
       "       137.38, 139.36, 139.54, 137.73, 139.03, 137.07, 134.65, 136.28,\n",
       "       138.12, 137.12, 135.67, 138.24, 139.1 , 139.68, 139.55, 141.57,\n",
       "       140.41, 139.69, 137.41, 138.43, 136.37, 137.24, 139.94, 140.73,\n",
       "       144.19, 142.83, 144.61, 143.37, 143.72, 144.55, 144.46, 144.06,\n",
       "       144.26, 145.96, 146.11, 147.07, 147.31, 148.06, 149.97, 150.34,\n",
       "       150.39, 149.62, 149.48, 149.59, 151.23, 152.03, 152.32, 151.38,\n",
       "       149.55, 149.31, 149.85, 149.93, 151.75, 151.75, 151.13, 151.7 ,\n",
       "       153.24, 154.53, 155.53, 154.69, 154.37, 155.71, 157.41, 157.41,\n",
       "       157.38, 158.67, 158.96, 157.59, 157.7 , 160.62, 158.62, 159.03,\n",
       "       157.58, 160.09, 162.09, 161.34, 163.28, 162.13, 163.18, 166.17,\n",
       "       167.1 , 166.5 , 165.7 , 166.72, 165.04, 162.28, 165.46, 168.04,\n",
       "       172.78, 170.23, 174.38, 180.12, 179.9 , 183.63, 183.89, 188.7 ,\n",
       "       184.44, 184.71, 183.71, 185.35, 187.23, 187.28, 184.42, 178.59,\n",
       "       170.89, 168.07, 170.17, 158.18, 162.01, 172.79, 164.51, 170.55,\n",
       "       166.27, 161.57, 150.62, 160.92, 153.63, 139.06, 158.83, 135.42,\n",
       "       146.57, 140.4 , 142.71, 137.35, 135.98, 148.34, 146.92, 156.11,\n",
       "       149.7 , 160.23, 157.71, 152.11, 155.26, 153.83, 165.27, 163.49,\n",
       "       165.13, 165.14, 165.51, 173.7 , 171.88, 177.04, 178.6 , 175.06,\n",
       "       167.82, 173.52, 171.42, 174.55, 174.05, 169.81, 177.43, 179.21,\n",
       "       174.57, 178.84, 180.76, 182.54, 183.6 , 184.68, 186.74, 182.51,\n",
       "       179.75, 180.53, 183.16, 184.91, 183.63, 185.66, 183.43, 183.51,\n",
       "       181.57, 181.81, 181.4 , 183.25, 182.83, 184.91, 185.36, 182.92,\n",
       "       187.2 , 188.36, 189.8 , 196.84, 186.27, 187.74, 188.94, 193.57,\n",
       "       194.24, 196.32, 195.15, 200.57, 201.91, 197.84, 200.34, 196.33,\n",
       "       198.44, 203.51, 204.7 , 206.26, 210.7 , 208.25, 212.83, 214.32,\n",
       "       213.67, 207.07, 208.35, 208.04, 203.92, 202.88, 211.6 , 208.75,\n",
       "       211.75, 202.54, 201.3 , 203.85, 202.02, 204.06, 203.9 , 205.01,\n",
       "       216.54, 213.29, 212.94, 216.35, 212.48, 208.25, 203.38, 209.19,\n",
       "       208.7 , 208.9 , 210.28, 211.49, 209.7 , 214.58, 213.02, 213.69,\n",
       "       216.47, 221.15, 226.58, 228.91, 225.53, 227.27, 231.65, 217.3 ,\n",
       "       214.25, 202.66, 211.29, 205.37, 204.03, 205.41, 208.78, 205.05,\n",
       "       202.91, 200.39, 202.54, 207.42, 200.59, 203.19, 207.82, 209.44,\n",
       "       207.26, 210.33, 212.46, 206.19, 210.38, 205.91, 209.83, 210.58,\n",
       "       215.81, 221.4 , 222.86, 220.86, 219.66, 219.66, 214.22, 214.65,\n",
       "       214.8 , 214.89, 216.23, 210.08, 213.25, 202.68, 204.72, 202.47,\n",
       "       202.33, 206.43, 216.39, 223.29, 223.72, 218.39, 211.01, 216.55,\n",
       "       215.44, 216.51, 217.23, 214.46, 211.08, 212.42, 210.39, 210.11,\n",
       "       213.86, 213.87, 215.23, 214.07, 216.21, 215.37, 214.24, 214.36,\n",
       "       214.29, 216.01, 211.8 , 210.52, 213.26, 214.2 , 214.13, 219.28,\n",
       "       219.42, 218.59, 222.59, 223.94, 221.02, 222.75, 224.96, 224.15,\n",
       "       221.68, 222.42, 217.69, 217.9 , 212.25, 218.29, 219.62, 217.49,\n",
       "       214.93, 216.34, 213.02, 212.65, 216.44, 224.34, 224.97, 225.95,\n",
       "       229.53, 232.33, 232.9 , 238.93, 231.96, 239.65, 239.51, 243.  ,\n",
       "       242.01, 242.2 , 242.47, 243.77, 242.82, 244.49, 244.99, 243.7 ,\n",
       "       244.2 , 243.79, 240.97, 234.51, 233.27, 234.55, 228.99, 232.38,\n",
       "       236.94, 233.87, 227.56, 226.73, 231.6 , 227.39, 233.78, 232.42,\n",
       "       237.13, 235.75, 234.81, 237.71, 237.04, 230.72, 230.35, 235.99,\n",
       "       237.58, 235.46, 232.34, 236.48, 235.24, 231.85, 235.77])"
      ]
     },
     "execution_count": 144,
     "metadata": {},
     "output_type": "execute_result"
    }
   ],
   "source": [
    "ts_close_test.values"
   ]
  },
  {
   "cell_type": "code",
   "execution_count": 171,
   "id": "222732cd-fece-4408-940f-7eee899082df",
   "metadata": {},
   "outputs": [],
   "source": [
    "predict = model_fit.forecast(steps=511, alpha=0.05)[0]"
   ]
  },
  {
   "cell_type": "code",
   "execution_count": 172,
   "id": "e81a1cda-b7f4-46a9-af6d-5fcb65379be6",
   "metadata": {
    "tags": []
   },
   "outputs": [
    {
     "data": {
      "text/plain": [
       "array([158.71627463, 158.79484852, 158.87342242, 158.95199632,\n",
       "       159.03057021, 159.10914411, 159.187718  , 159.2662919 ,\n",
       "       159.3448658 , 159.42343969])"
      ]
     },
     "execution_count": 172,
     "metadata": {},
     "output_type": "execute_result"
    }
   ],
   "source": [
    "predict[-10:]"
   ]
  },
  {
   "cell_type": "code",
   "execution_count": 174,
   "id": "a32539cb-2a18-435d-bdb4-c8f1d90974c8",
   "metadata": {},
   "outputs": [
    {
     "data": {
      "image/png": "[encoded data removed]",
      "text/plain": [
       "<Figure size 576x432 with 1 Axes>"
      ]
     },
     "metadata": {
      "needs_background": "light"
     },
     "output_type": "display_data"
    }
   ],
   "source": [
    "plt.figure(figsize=(8,6))\n",
    "plt.plot(ts_close_test.index, predict, label='predict', color='red')\n",
    "plt.plot(ts_close_test.index, ts_close_test.values, label='true', color='green')\n",
    "plt.legend()\n",
    "plt.show()"
   ]
  },
  {
   "cell_type": "code",
   "execution_count": 179,
   "id": "2cce0c41-9d59-4faf-8dc8-3ee0485ef452",
   "metadata": {},
   "outputs": [],
   "source": [
    "# from statsmodels.tsa.seasonal import seasonal_decompose\n",
    "# from statsmodels.tsa.seasonal import STL"
   ]
  },
  {
   "cell_type": "code",
   "execution_count": 180,
   "id": "1627ff91-3472-42cc-a1cc-a0fc37db9518",
   "metadata": {},
   "outputs": [],
   "source": [
    "# result = STL(ts_close, period=12).fit()\n",
    "# result.plot()\n",
    "# plt.show()"
   ]
  },
  {
   "cell_type": "code",
   "execution_count": null,
   "id": "7bf2f14c-411b-4b87-b888-59692dc5cf5a",
   "metadata": {},
   "outputs": [],
   "source": []
  }
 ],
 "metadata": {
  "kernelspec": {
   "display_name": "Python 3 (ipykernel)",
   "language": "python",
   "name": "python3"
  },
  "language_info": {
   "codemirror_mode": {
    "name": "ipython",
    "version": 3
   },
   "file_extension": ".py",
   "mimetype": "text/x-python",
   "name": "python",
   "nbconvert_exporter": "python",
   "pygments_lexer": "ipython3",
   "version": "3.9.7"
  }
 },
 "nbformat": 4,
 "nbformat_minor": 5
}
